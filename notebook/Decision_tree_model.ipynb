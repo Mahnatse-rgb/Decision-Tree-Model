{
 "cells": [
  {
   "cell_type": "markdown",
   "metadata": {},
   "source": [
    "## DECISION TREES !!!"
   ]
  },
  {
   "cell_type": "markdown",
   "metadata": {},
   "source": [
    "<div class='alert alert-info'>\n",
    "Objective\n",
    "<div>\n"
   ]
  },
  {
   "cell_type": "markdown",
   "metadata": {},
   "source": [
    "Use decision tree model to determine the factors that predict whether a mushroom is poisonous or edible"
   ]
  },
  {
   "cell_type": "markdown",
   "metadata": {},
   "source": [
    "<div class='alert alert-info'>\n",
    "            Content\n",
    "            </div>\n",
    "            \n",
    "#### 1. Data Preprocessing\n",
    "    - Inspecting Data frame\n",
    "    - Rename columns\n",
    "    - Replace value of columns\n",
    "    - Pandas Profiling Report Overview\n",
    "    - Handling Nan values\n",
    "\n",
    "#### 2. Dataset Descriptions \n",
    "    - Max values per column\n",
    "    - Min values per column\n",
    "    \n",
    "#### 3. Splitting the dataset into train and test sets\n",
    "    - Create dummy variables\n",
    "    - Length of testing dataset \n",
    "    \n",
    "#### 4. Instantiate Decision Tree Classifier and Fit model\n",
    "    - Prediction\n",
    "\n",
    "#### 5. Making predictions and evaluating performance¶\n",
    "    - Confusion matrix \n",
    "    - Classification report\n",
    "    - Receiver Operating Characteristic (ROC)\n",
    "\n",
    "#### 6. References"
   ]
  },
  {
   "cell_type": "markdown",
   "metadata": {},
   "source": [
    "<div class='alert alert-info'>\n",
    "    Well, Let the fun begin !!\n",
    "    </div>"
   ]
  },
  {
   "cell_type": "markdown",
   "metadata": {},
   "source": [
    "### 1. Data Preprocessing\n",
    "    - Inspecting Data frame\n",
    "    - Rename columns\n",
    "    - Replace value of columns\n",
    "    - Pandas Profiling Report Overview\n",
    "    - Handling Nan values"
   ]
  },
  {
   "cell_type": "code",
   "execution_count": 1,
   "metadata": {},
   "outputs": [],
   "source": [
    "#Import libraries\n",
    "import pandas as pd\n",
    "import numpy as np"
   ]
  },
  {
   "cell_type": "code",
   "execution_count": 2,
   "metadata": {
    "scrolled": true
   },
   "outputs": [
    {
     "data": {
      "text/html": [
       "<div>\n",
       "<style scoped>\n",
       "    .dataframe tbody tr th:only-of-type {\n",
       "        vertical-align: middle;\n",
       "    }\n",
       "\n",
       "    .dataframe tbody tr th {\n",
       "        vertical-align: top;\n",
       "    }\n",
       "\n",
       "    .dataframe thead th {\n",
       "        text-align: right;\n",
       "    }\n",
       "</style>\n",
       "<table border=\"1\" class=\"dataframe\">\n",
       "  <thead>\n",
       "    <tr style=\"text-align: right;\">\n",
       "      <th></th>\n",
       "      <th>0</th>\n",
       "      <th>1</th>\n",
       "      <th>2</th>\n",
       "      <th>3</th>\n",
       "      <th>4</th>\n",
       "      <th>5</th>\n",
       "      <th>6</th>\n",
       "      <th>7</th>\n",
       "      <th>8</th>\n",
       "      <th>9</th>\n",
       "      <th>...</th>\n",
       "      <th>13</th>\n",
       "      <th>14</th>\n",
       "      <th>15</th>\n",
       "      <th>16</th>\n",
       "      <th>17</th>\n",
       "      <th>18</th>\n",
       "      <th>19</th>\n",
       "      <th>20</th>\n",
       "      <th>21</th>\n",
       "      <th>22</th>\n",
       "    </tr>\n",
       "  </thead>\n",
       "  <tbody>\n",
       "    <tr>\n",
       "      <th>0</th>\n",
       "      <td>p</td>\n",
       "      <td>x</td>\n",
       "      <td>s</td>\n",
       "      <td>n</td>\n",
       "      <td>t</td>\n",
       "      <td>p</td>\n",
       "      <td>f</td>\n",
       "      <td>c</td>\n",
       "      <td>n</td>\n",
       "      <td>k</td>\n",
       "      <td>...</td>\n",
       "      <td>s</td>\n",
       "      <td>w</td>\n",
       "      <td>w</td>\n",
       "      <td>p</td>\n",
       "      <td>w</td>\n",
       "      <td>o</td>\n",
       "      <td>p</td>\n",
       "      <td>k</td>\n",
       "      <td>s</td>\n",
       "      <td>u</td>\n",
       "    </tr>\n",
       "    <tr>\n",
       "      <th>1</th>\n",
       "      <td>e</td>\n",
       "      <td>x</td>\n",
       "      <td>s</td>\n",
       "      <td>y</td>\n",
       "      <td>t</td>\n",
       "      <td>a</td>\n",
       "      <td>f</td>\n",
       "      <td>c</td>\n",
       "      <td>b</td>\n",
       "      <td>k</td>\n",
       "      <td>...</td>\n",
       "      <td>s</td>\n",
       "      <td>w</td>\n",
       "      <td>w</td>\n",
       "      <td>p</td>\n",
       "      <td>w</td>\n",
       "      <td>o</td>\n",
       "      <td>p</td>\n",
       "      <td>n</td>\n",
       "      <td>n</td>\n",
       "      <td>g</td>\n",
       "    </tr>\n",
       "    <tr>\n",
       "      <th>2</th>\n",
       "      <td>e</td>\n",
       "      <td>b</td>\n",
       "      <td>s</td>\n",
       "      <td>w</td>\n",
       "      <td>t</td>\n",
       "      <td>l</td>\n",
       "      <td>f</td>\n",
       "      <td>c</td>\n",
       "      <td>b</td>\n",
       "      <td>n</td>\n",
       "      <td>...</td>\n",
       "      <td>s</td>\n",
       "      <td>w</td>\n",
       "      <td>w</td>\n",
       "      <td>p</td>\n",
       "      <td>w</td>\n",
       "      <td>o</td>\n",
       "      <td>p</td>\n",
       "      <td>n</td>\n",
       "      <td>n</td>\n",
       "      <td>m</td>\n",
       "    </tr>\n",
       "    <tr>\n",
       "      <th>3</th>\n",
       "      <td>p</td>\n",
       "      <td>x</td>\n",
       "      <td>y</td>\n",
       "      <td>w</td>\n",
       "      <td>t</td>\n",
       "      <td>p</td>\n",
       "      <td>f</td>\n",
       "      <td>c</td>\n",
       "      <td>n</td>\n",
       "      <td>n</td>\n",
       "      <td>...</td>\n",
       "      <td>s</td>\n",
       "      <td>w</td>\n",
       "      <td>w</td>\n",
       "      <td>p</td>\n",
       "      <td>w</td>\n",
       "      <td>o</td>\n",
       "      <td>p</td>\n",
       "      <td>k</td>\n",
       "      <td>s</td>\n",
       "      <td>u</td>\n",
       "    </tr>\n",
       "    <tr>\n",
       "      <th>4</th>\n",
       "      <td>e</td>\n",
       "      <td>x</td>\n",
       "      <td>s</td>\n",
       "      <td>g</td>\n",
       "      <td>f</td>\n",
       "      <td>n</td>\n",
       "      <td>f</td>\n",
       "      <td>w</td>\n",
       "      <td>b</td>\n",
       "      <td>k</td>\n",
       "      <td>...</td>\n",
       "      <td>s</td>\n",
       "      <td>w</td>\n",
       "      <td>w</td>\n",
       "      <td>p</td>\n",
       "      <td>w</td>\n",
       "      <td>o</td>\n",
       "      <td>e</td>\n",
       "      <td>n</td>\n",
       "      <td>a</td>\n",
       "      <td>g</td>\n",
       "    </tr>\n",
       "  </tbody>\n",
       "</table>\n",
       "<p>5 rows × 23 columns</p>\n",
       "</div>"
      ],
      "text/plain": [
       "  0  1  2  3  4  5  6  7  8  9   ... 13 14 15 16 17 18 19 20 21 22\n",
       "0  p  x  s  n  t  p  f  c  n  k  ...  s  w  w  p  w  o  p  k  s  u\n",
       "1  e  x  s  y  t  a  f  c  b  k  ...  s  w  w  p  w  o  p  n  n  g\n",
       "2  e  b  s  w  t  l  f  c  b  n  ...  s  w  w  p  w  o  p  n  n  m\n",
       "3  p  x  y  w  t  p  f  c  n  n  ...  s  w  w  p  w  o  p  k  s  u\n",
       "4  e  x  s  g  f  n  f  w  b  k  ...  s  w  w  p  w  o  e  n  a  g\n",
       "\n",
       "[5 rows x 23 columns]"
      ]
     },
     "execution_count": 2,
     "metadata": {},
     "output_type": "execute_result"
    }
   ],
   "source": [
    "df = pd.read_csv('../Data/agaricus-lepiota.data', header = None)\n",
    "df.head()"
   ]
  },
  {
   "cell_type": "code",
   "execution_count": 3,
   "metadata": {},
   "outputs": [
    {
     "data": {
      "text/html": [
       "<div>\n",
       "<style scoped>\n",
       "    .dataframe tbody tr th:only-of-type {\n",
       "        vertical-align: middle;\n",
       "    }\n",
       "\n",
       "    .dataframe tbody tr th {\n",
       "        vertical-align: top;\n",
       "    }\n",
       "\n",
       "    .dataframe thead th {\n",
       "        text-align: right;\n",
       "    }\n",
       "</style>\n",
       "<table border=\"1\" class=\"dataframe\">\n",
       "  <thead>\n",
       "    <tr style=\"text-align: right;\">\n",
       "      <th></th>\n",
       "      <th>classes</th>\n",
       "      <th>cap-shape</th>\n",
       "      <th>cap-surface</th>\n",
       "      <th>cap-color</th>\n",
       "      <th>bruises</th>\n",
       "      <th>odor</th>\n",
       "      <th>gill-attachment</th>\n",
       "      <th>gill-spacing</th>\n",
       "      <th>gill-size</th>\n",
       "      <th>gill-color</th>\n",
       "      <th>...</th>\n",
       "      <th>stalk-surface-below-ring</th>\n",
       "      <th>stalk-color-above-ring</th>\n",
       "      <th>stalk-color-below-ring</th>\n",
       "      <th>veil-type</th>\n",
       "      <th>veil-color</th>\n",
       "      <th>ring-number</th>\n",
       "      <th>ring-type</th>\n",
       "      <th>spore-print-color</th>\n",
       "      <th>population</th>\n",
       "      <th>habitat</th>\n",
       "    </tr>\n",
       "  </thead>\n",
       "  <tbody>\n",
       "    <tr>\n",
       "      <th>0</th>\n",
       "      <td>p</td>\n",
       "      <td>x</td>\n",
       "      <td>s</td>\n",
       "      <td>n</td>\n",
       "      <td>t</td>\n",
       "      <td>p</td>\n",
       "      <td>f</td>\n",
       "      <td>c</td>\n",
       "      <td>n</td>\n",
       "      <td>k</td>\n",
       "      <td>...</td>\n",
       "      <td>s</td>\n",
       "      <td>w</td>\n",
       "      <td>w</td>\n",
       "      <td>p</td>\n",
       "      <td>w</td>\n",
       "      <td>o</td>\n",
       "      <td>p</td>\n",
       "      <td>k</td>\n",
       "      <td>s</td>\n",
       "      <td>u</td>\n",
       "    </tr>\n",
       "    <tr>\n",
       "      <th>1</th>\n",
       "      <td>e</td>\n",
       "      <td>x</td>\n",
       "      <td>s</td>\n",
       "      <td>y</td>\n",
       "      <td>t</td>\n",
       "      <td>a</td>\n",
       "      <td>f</td>\n",
       "      <td>c</td>\n",
       "      <td>b</td>\n",
       "      <td>k</td>\n",
       "      <td>...</td>\n",
       "      <td>s</td>\n",
       "      <td>w</td>\n",
       "      <td>w</td>\n",
       "      <td>p</td>\n",
       "      <td>w</td>\n",
       "      <td>o</td>\n",
       "      <td>p</td>\n",
       "      <td>n</td>\n",
       "      <td>n</td>\n",
       "      <td>g</td>\n",
       "    </tr>\n",
       "    <tr>\n",
       "      <th>2</th>\n",
       "      <td>e</td>\n",
       "      <td>b</td>\n",
       "      <td>s</td>\n",
       "      <td>w</td>\n",
       "      <td>t</td>\n",
       "      <td>l</td>\n",
       "      <td>f</td>\n",
       "      <td>c</td>\n",
       "      <td>b</td>\n",
       "      <td>n</td>\n",
       "      <td>...</td>\n",
       "      <td>s</td>\n",
       "      <td>w</td>\n",
       "      <td>w</td>\n",
       "      <td>p</td>\n",
       "      <td>w</td>\n",
       "      <td>o</td>\n",
       "      <td>p</td>\n",
       "      <td>n</td>\n",
       "      <td>n</td>\n",
       "      <td>m</td>\n",
       "    </tr>\n",
       "    <tr>\n",
       "      <th>3</th>\n",
       "      <td>p</td>\n",
       "      <td>x</td>\n",
       "      <td>y</td>\n",
       "      <td>w</td>\n",
       "      <td>t</td>\n",
       "      <td>p</td>\n",
       "      <td>f</td>\n",
       "      <td>c</td>\n",
       "      <td>n</td>\n",
       "      <td>n</td>\n",
       "      <td>...</td>\n",
       "      <td>s</td>\n",
       "      <td>w</td>\n",
       "      <td>w</td>\n",
       "      <td>p</td>\n",
       "      <td>w</td>\n",
       "      <td>o</td>\n",
       "      <td>p</td>\n",
       "      <td>k</td>\n",
       "      <td>s</td>\n",
       "      <td>u</td>\n",
       "    </tr>\n",
       "    <tr>\n",
       "      <th>4</th>\n",
       "      <td>e</td>\n",
       "      <td>x</td>\n",
       "      <td>s</td>\n",
       "      <td>g</td>\n",
       "      <td>f</td>\n",
       "      <td>n</td>\n",
       "      <td>f</td>\n",
       "      <td>w</td>\n",
       "      <td>b</td>\n",
       "      <td>k</td>\n",
       "      <td>...</td>\n",
       "      <td>s</td>\n",
       "      <td>w</td>\n",
       "      <td>w</td>\n",
       "      <td>p</td>\n",
       "      <td>w</td>\n",
       "      <td>o</td>\n",
       "      <td>e</td>\n",
       "      <td>n</td>\n",
       "      <td>a</td>\n",
       "      <td>g</td>\n",
       "    </tr>\n",
       "  </tbody>\n",
       "</table>\n",
       "<p>5 rows × 23 columns</p>\n",
       "</div>"
      ],
      "text/plain": [
       "  classes cap-shape cap-surface cap-color bruises odor gill-attachment  \\\n",
       "0       p         x           s         n       t    p               f   \n",
       "1       e         x           s         y       t    a               f   \n",
       "2       e         b           s         w       t    l               f   \n",
       "3       p         x           y         w       t    p               f   \n",
       "4       e         x           s         g       f    n               f   \n",
       "\n",
       "  gill-spacing gill-size gill-color  ... stalk-surface-below-ring  \\\n",
       "0            c         n          k  ...                        s   \n",
       "1            c         b          k  ...                        s   \n",
       "2            c         b          n  ...                        s   \n",
       "3            c         n          n  ...                        s   \n",
       "4            w         b          k  ...                        s   \n",
       "\n",
       "  stalk-color-above-ring stalk-color-below-ring veil-type veil-color  \\\n",
       "0                      w                      w         p          w   \n",
       "1                      w                      w         p          w   \n",
       "2                      w                      w         p          w   \n",
       "3                      w                      w         p          w   \n",
       "4                      w                      w         p          w   \n",
       "\n",
       "  ring-number ring-type spore-print-color population habitat  \n",
       "0           o         p                 k          s       u  \n",
       "1           o         p                 n          n       g  \n",
       "2           o         p                 n          n       m  \n",
       "3           o         p                 k          s       u  \n",
       "4           o         e                 n          a       g  \n",
       "\n",
       "[5 rows x 23 columns]"
      ]
     },
     "execution_count": 3,
     "metadata": {},
     "output_type": "execute_result"
    }
   ],
   "source": [
    "#rename columns\n",
    "df = df.rename(columns = {0:'classes', 1:'cap-shape',2:'cap-surface', 3: 'cap-color',4: 'bruises',\n",
    "                    5:'odor', 6:'gill-attachment', 7: 'gill-spacing', 8:'gill-size',\n",
    "                    9:'gill-color', 17:'veil-color', 18:'ring-number', 19:'ring-type',10:'stalk-shape',\n",
    "                    11:'stalk-root', 12:'stalk-surface-above-ring', 13:'stalk-surface-below-ring',\n",
    "                     14:'stalk-color-above-ring',15:'stalk-color-below-ring', 16:'veil-type',\n",
    "                     20:'spore-print-color',21:'population',22:'habitat'})\n",
    "df.head()"
   ]
  },
  {
   "cell_type": "code",
   "execution_count": 4,
   "metadata": {},
   "outputs": [],
   "source": [
    "#replace value of columns\n",
    "df['classes'] = df['classes'].replace({'p':'poisonous', 'e':'edible'})\n",
    "df['cap-shape'] = df['cap-shape'].replace(to_replace=['b','c','x','f','k','s'], value = ['bell','conical','convex','flat','knobbed','sunken'])\n",
    "df['cap-surface'] = df['cap-surface'].replace(to_replace=['f','g','y','s'], value = ['fibrous','grooves','scaly','smooth'])\n",
    "df['cap-color'] = df['cap-color'].replace(to_replace =['n','b','c','g','r','p','u','e','w','y'], value=['brown','buff','cinnamon','gray','green','pink','purple','red','white','yellow'])\n",
    "df['bruises'] = df['bruises'].replace(to_replace= ['t','f'], value = ['bruises','no'])\n",
    "df['odor'] = df['odor'].replace(to_replace = ['a','l','c','y','f','m','n','p','s'], value = ['almond','anise','creosote','fishy','foul','musty','none','pungent','spicy'])\n",
    "df['gill-attachment'] = df['gill-attachment'].replace(to_replace = ['a','d','f','n'], value =['attached','descending','free','notched'])\n",
    "df['gill-spacing'] = df['gill-spacing'].replace(to_replace = ['c','w','d'], value = ['close','crowded','distant'])\n",
    "df['gill-size'] = df['gill-size'].replace(to_replace = ['b','n'], value = ['broad','narrow'])\n",
    "df['gill-color'] = df['gill-color'].replace(to_replace = ['k','n','b','h','g','r','o','p','u','e','w','y'], value = ['black','brown','buff','chocolate','gray','green','orange','pink','purple','red','white','yellow'])\n",
    "df['stalk-shape'] = df['stalk-shape'].replace(to_replace =['e','t'], value = ['enlarging','tapering'])\n",
    "df['stalk-root'] = df['stalk-root'].replace(to_replace =['b','c','u','e','z','r','?'], value = ['bulbous',' club','cup','equal','rhizomorphs','rooted',np.nan])\n",
    "df['stalk-surface-above-ring'] = df['stalk-surface-above-ring'].replace(to_replace =['f','y','k','s'], value = ['fibrous','scaly','silky','smooth'])\n",
    "df['stalk-surface-below-ring'] = df['stalk-surface-below-ring'].replace(to_replace =['f','y','k','s'], value = ['fibrous','scaly','silky','smooth'])\n",
    "df['stalk-color-above-ring'] = df['stalk-color-above-ring'].replace(to_replace =['n','b','c','g','o','p','e','w','y'], value = ['brown','buff','cinnamon','gray','orange','pink','red','white','yellow'])\n",
    "df['stalk-color-below-ring'] = df['stalk-color-below-ring'].replace(to_replace =['n','b','c','g','o','p','e','w','y'], value = ['brown','buff','cinnamon','gray','orange','pink','red','white','yellow'])\n",
    "df['veil-type'] = df['veil-type'].replace(to_replace =['p','u'], value =['partial','universal'])\n",
    "df['veil-color'] = df['veil-color'].replace(to_replace =['n','o','w','y'], value =['brown','orange','white','yellow'])\n",
    "df['ring-number'] = df['ring-number'].replace(to_replace =['n','o','t'], value =['none','one','two'])\n",
    "df['ring-type'] = df['ring-type'].replace(to_replace =['c','e','f','l','n','p','s','z'], value = ['cobwebby','evanescent','flaring','large','none','pendant','sheathing','zone'])\n",
    "df['spore-print-color'] = df['spore-print-color'].replace(to_replace =['k','n','b','h','r','o','u','w','y'], value = ['black','brown','buff','chocolate','green','orange','purple','white','yellow'])\n",
    "df['population'] = df['population'].replace(to_replace =['a','c','n','s','v','y'], value = ['abundant','clustered','numerous','scattered','several','solitary'])\n",
    "df['habitat'] = df['habitat'].replace(to_replace =['g','l','m','p','u','w','d'], value = ['grasses', 'leaves', 'meadows', 'paths', 'urban', 'waste', 'woods'])"
   ]
  },
  {
   "cell_type": "code",
   "execution_count": 24,
   "metadata": {},
   "outputs": [
    {
     "name": "stdout",
     "output_type": "stream",
     "text": [
      "     classes cap-shape cap-surface cap-color  bruises     odor  \\\n",
      "0  poisonous    convex      smooth     brown  bruises  pungent   \n",
      "1     edible    convex      smooth    yellow  bruises   almond   \n",
      "2     edible      bell      smooth     white  bruises    anise   \n",
      "3  poisonous    convex       scaly     white  bruises  pungent   \n",
      "4     edible    convex      smooth      gray       no     none   \n",
      "\n",
      "  gill-attachment gill-spacing gill-size gill-color  ...  \\\n",
      "0            free        close    narrow      black  ...   \n",
      "1            free        close     broad      black  ...   \n",
      "2            free        close     broad      brown  ...   \n",
      "3            free        close    narrow      brown  ...   \n",
      "4            free      crowded     broad      black  ...   \n",
      "\n",
      "  stalk-surface-below-ring stalk-color-above-ring stalk-color-below-ring  \\\n",
      "0                   smooth                  white                  white   \n",
      "1                   smooth                  white                  white   \n",
      "2                   smooth                  white                  white   \n",
      "3                   smooth                  white                  white   \n",
      "4                   smooth                  white                  white   \n",
      "\n",
      "  veil-type veil-color ring-number   ring-type spore-print-color population  \\\n",
      "0   partial      white         one     pendant             black  scattered   \n",
      "1   partial      white         one     pendant             brown   numerous   \n",
      "2   partial      white         one     pendant             brown   numerous   \n",
      "3   partial      white         one     pendant             black  scattered   \n",
      "4   partial      white         one  evanescent             brown   abundant   \n",
      "\n",
      "   habitat  \n",
      "0    urban  \n",
      "1  grasses  \n",
      "2  meadows  \n",
      "3    urban  \n",
      "4  grasses  \n",
      "\n",
      "[5 rows x 23 columns]\n",
      "<class 'pandas.core.frame.DataFrame'>\n",
      "RangeIndex: 8124 entries, 0 to 8123\n",
      "Data columns (total 23 columns):\n",
      "classes                     8124 non-null object\n",
      "cap-shape                   8124 non-null object\n",
      "cap-surface                 8124 non-null object\n",
      "cap-color                   8124 non-null object\n",
      "bruises                     8124 non-null object\n",
      "odor                        8124 non-null object\n",
      "gill-attachment             8124 non-null object\n",
      "gill-spacing                8124 non-null object\n",
      "gill-size                   8124 non-null object\n",
      "gill-color                  8124 non-null object\n",
      "stalk-shape                 8124 non-null object\n",
      "stalk-root                  8124 non-null object\n",
      "stalk-surface-above-ring    8124 non-null object\n",
      "stalk-surface-below-ring    8124 non-null object\n",
      "stalk-color-above-ring      8124 non-null object\n",
      "stalk-color-below-ring      8124 non-null object\n",
      "veil-type                   8124 non-null object\n",
      "veil-color                  8124 non-null object\n",
      "ring-number                 8124 non-null object\n",
      "ring-type                   8124 non-null object\n",
      "spore-print-color           8124 non-null object\n",
      "population                  8124 non-null object\n",
      "habitat                     8124 non-null object\n",
      "dtypes: object(23)\n",
      "memory usage: 1.4+ MB\n"
     ]
    }
   ],
   "source": [
    "df.head()"
   ]
  },
  {
   "cell_type": "markdown",
   "metadata": {},
   "source": [
    "### Profile Report Overview\n",
    "\n",
    "#### Dataset statistics\n",
    "\n",
    "- Number of variables----- 23\n",
    "- Number of observations---- 8124\n",
    "- Duplicate rows---- 0\n",
    "- Total size in memory---- 11.2 MiB\n",
    "- Average record size in memory---- 1.4 KiB\n",
    "- dtypes---- object(23)\n",
    "\n",
    "#### Warning \n",
    "\n",
    "- stalk-root has 2480 (30.5%) missing values\n",
    "- odor is highly correlated with classes\t\t\n",
    "- stalk-color-above-ring, veil-color, gill-attachment, stalk-color-below-ring are highly correlated with each other"
   ]
  },
  {
   "cell_type": "markdown",
   "metadata": {},
   "source": [
    "### Handling Nan values"
   ]
  },
  {
   "cell_type": "code",
   "execution_count": 7,
   "metadata": {},
   "outputs": [],
   "source": [
    "# Iterate over each column of df\n",
    "for col in df.columns:\n",
    "    # Check if the column is of object type\n",
    "    if df[col].dtypes == 'object':\n",
    "        # Impute with the most frequent value\n",
    "        df = df.fillna(df[col].value_counts().index[0])"
   ]
  },
  {
   "cell_type": "code",
   "execution_count": 8,
   "metadata": {},
   "outputs": [
    {
     "name": "stdout",
     "output_type": "stream",
     "text": [
      "There a total of 0 null values in the dataframe\n"
     ]
    }
   ],
   "source": [
    "print('There a total of {} null values in the dataframe'.format(df.isnull().sum().sum()))"
   ]
  },
  {
   "cell_type": "markdown",
   "metadata": {},
   "source": [
    "### 2. Dataset Descriptions \n",
    "    - Max values per column\n",
    "    - Min values per column"
   ]
  },
  {
   "cell_type": "code",
   "execution_count": 9,
   "metadata": {},
   "outputs": [
    {
     "data": {
      "text/plain": [
       "classes                     poisonous\n",
       "cap-shape                      sunken\n",
       "cap-surface                    smooth\n",
       "cap-color                      yellow\n",
       "bruises                            no\n",
       "odor                            spicy\n",
       "gill-attachment                  free\n",
       "gill-spacing                  crowded\n",
       "gill-size                      narrow\n",
       "gill-color                     yellow\n",
       "stalk-shape                  tapering\n",
       "stalk-root                     rooted\n",
       "stalk-surface-above-ring       smooth\n",
       "stalk-surface-below-ring       smooth\n",
       "stalk-color-above-ring         yellow\n",
       "stalk-color-below-ring         yellow\n",
       "veil-type                     partial\n",
       "veil-color                     yellow\n",
       "ring-number                       two\n",
       "ring-type                     pendant\n",
       "spore-print-color              yellow\n",
       "population                   solitary\n",
       "habitat                         woods\n",
       "dtype: object"
      ]
     },
     "execution_count": 9,
     "metadata": {},
     "output_type": "execute_result"
    }
   ],
   "source": [
    "df.max()"
   ]
  },
  {
   "cell_type": "code",
   "execution_count": 10,
   "metadata": {},
   "outputs": [
    {
     "name": "stdout",
     "output_type": "stream",
     "text": [
      "poisonous mushrooms seem to often be sunken, yellow in color, and found in woods.\n"
     ]
    }
   ],
   "source": [
    "print('{0} mushrooms seem to often be {1}, {2} in color, and found in {3}.'.format(df['classes'].max(),df['cap-shape'].max(),df['cap-color'].max(),df['habitat'].max()))"
   ]
  },
  {
   "cell_type": "code",
   "execution_count": 11,
   "metadata": {},
   "outputs": [
    {
     "data": {
      "text/plain": [
       "classes                         edible\n",
       "cap-shape                         bell\n",
       "cap-surface                    fibrous\n",
       "cap-color                        brown\n",
       "bruises                        bruises\n",
       "odor                            almond\n",
       "gill-attachment               attached\n",
       "gill-spacing                     close\n",
       "gill-size                        broad\n",
       "gill-color                       black\n",
       "stalk-shape                  enlarging\n",
       "stalk-root                        club\n",
       "stalk-surface-above-ring       fibrous\n",
       "stalk-surface-below-ring       fibrous\n",
       "stalk-color-above-ring           brown\n",
       "stalk-color-below-ring           brown\n",
       "veil-type                      partial\n",
       "veil-color                       brown\n",
       "ring-number                       none\n",
       "ring-type                   evanescent\n",
       "spore-print-color                black\n",
       "population                    abundant\n",
       "habitat                        grasses\n",
       "dtype: object"
      ]
     },
     "execution_count": 11,
     "metadata": {},
     "output_type": "execute_result"
    }
   ],
   "source": [
    "df.min()"
   ]
  },
  {
   "cell_type": "code",
   "execution_count": 12,
   "metadata": {},
   "outputs": [
    {
     "name": "stdout",
     "output_type": "stream",
     "text": [
      "edible mushrooms seem to often be bell shaped, brown in color, and found in grasses.\n"
     ]
    }
   ],
   "source": [
    "print('{0} mushrooms seem to often be {1} shaped, {2} in color, and found in {3}.'.format(df['classes'].min(),df['cap-shape'].min(),df['cap-color'].min(),df['habitat'].min()))"
   ]
  },
  {
   "cell_type": "markdown",
   "metadata": {},
   "source": [
    "### 3. Splitting the dataset into train and test sets\n",
    "    - Create dummy variables\n",
    "    - Length of testing dataset "
   ]
  },
  {
   "cell_type": "code",
   "execution_count": 13,
   "metadata": {},
   "outputs": [],
   "source": [
    "# Segregate features and labels into separate variables\n",
    "y = df['classes'].replace(to_replace = ['poisonous','edible'], value =[0,1])\n",
    "X = df.drop('classes', axis = 1)\n",
    "\n",
    "#Got dummy variables\n",
    "X = pd.get_dummies(y)"
   ]
  },
  {
   "cell_type": "code",
   "execution_count": 14,
   "metadata": {},
   "outputs": [],
   "source": [
    "from sklearn.model_selection import train_test_split\n",
    "#----------------------------------------------------\n",
    "\n",
    "# Split into train and test sets\n",
    "X_train, X_test, y_train, y_test = train_test_split(X, y, random_state=13, stratify=y)"
   ]
  },
  {
   "cell_type": "code",
   "execution_count": 15,
   "metadata": {},
   "outputs": [
    {
     "name": "stdout",
     "output_type": "stream",
     "text": [
      "The test set has 2031 rows, which makes up 0.25 of the dataframe\n"
     ]
    }
   ],
   "source": [
    "#Length of testing dataset\n",
    "\n",
    "len_test      = len(X_test)\n",
    "len_df        = len(df)\n",
    "print('The test set has {0} rows, which makes up {1} of the dataframe'.format(len_test, len_test/len_df))"
   ]
  },
  {
   "cell_type": "markdown",
   "metadata": {},
   "source": [
    "### 4. Instantiate Decision Tree Classifier and Fit model\n",
    "    - Prediction"
   ]
  },
  {
   "cell_type": "code",
   "execution_count": 16,
   "metadata": {},
   "outputs": [
    {
     "data": {
      "text/plain": [
       "DecisionTreeClassifier(class_weight=None, criterion='gini', max_depth=None,\n",
       "                       max_features=None, max_leaf_nodes=None,\n",
       "                       min_impurity_decrease=0.0, min_impurity_split=None,\n",
       "                       min_samples_leaf=1, min_samples_split=2,\n",
       "                       min_weight_fraction_leaf=0.0, presort=False,\n",
       "                       random_state=None, splitter='best')"
      ]
     },
     "execution_count": 16,
     "metadata": {},
     "output_type": "execute_result"
    }
   ],
   "source": [
    "from sklearn.tree import DecisionTreeClassifier\n",
    "#-----------------------------------------------\n",
    "\n",
    "# Instantiate a DecisionTree classifier with default parameter values\n",
    "decision_tree = DecisionTreeClassifier()\n",
    "\n",
    "# Fit decision_tree to the train set\n",
    "decision_tree.fit(X_train, y_train)"
   ]
  },
  {
   "cell_type": "code",
   "execution_count": 17,
   "metadata": {},
   "outputs": [],
   "source": [
    "#Prediction\n",
    "y_pred = decision_tree.predict(X_test)"
   ]
  },
  {
   "cell_type": "markdown",
   "metadata": {},
   "source": [
    "### 5. Making predictions and evaluating performance¶\n",
    "    - Confusion matrix \n",
    "    - Classification report\n",
    "    - Receiver Operating Characteristic (ROC)"
   ]
  },
  {
   "cell_type": "code",
   "execution_count": 18,
   "metadata": {},
   "outputs": [
    {
     "name": "stdout",
     "output_type": "stream",
     "text": [
      "Confusion Matrix \n",
      " [[ 979    0]\n",
      " [   0 1052]]\n",
      "\n",
      "Classification Report \n",
      "               precision    recall  f1-score   support\n",
      "\n",
      "           0       1.00      1.00      1.00       979\n",
      "           1       1.00      1.00      1.00      1052\n",
      "\n",
      "    accuracy                           1.00      2031\n",
      "   macro avg       1.00      1.00      1.00      2031\n",
      "weighted avg       1.00      1.00      1.00      2031\n",
      "\n"
     ]
    }
   ],
   "source": [
    "# Import confusion_matrix\n",
    "from sklearn.metrics import classification_report, confusion_matrix\n",
    "#--------------------------------------------------------------------\n",
    "\n",
    "# Print the confusion matrix of the decision_tree model\n",
    "print('Confusion Matrix \\n {}'.format(confusion_matrix(y_test, y_pred)))\n",
    "\n",
    "# Print the Classification Report of the decision_tree model\n",
    "print('\\nClassification Report \\n {}'.format(classification_report(y_test, y_pred)))"
   ]
  },
  {
   "cell_type": "markdown",
   "metadata": {},
   "source": [
    "- The model is 100% accurate. \n",
    "- This is not satisfying as a perfect accuracy score indicates issues, among which may be overfitting, or i could have made a lot of preprocessing, or even included features that should not be a part of the model, such as those that are multicolinear, or even autocorrelated"
   ]
  },
  {
   "cell_type": "markdown",
   "metadata": {},
   "source": [
    "#### Receiver Operating Characteristic (ROC)"
   ]
  },
  {
   "cell_type": "code",
   "execution_count": 19,
   "metadata": {},
   "outputs": [],
   "source": [
    "# Import ROC\n",
    "from sklearn.metrics import roc_curve, auc\n",
    "from sklearn.metrics import roc_auc_score\n",
    "import matplotlib.pyplot as plt\n",
    "plt.style.use('ggplot')\n",
    "%matplotlib inline\n",
    "#----------------------------------------------\n",
    "\n",
    "logreg_roc_auc = roc_auc_score(y_test, y_pred)\n",
    "fpr, tpr, threshold_log = roc_curve(y_test, y_pred)"
   ]
  },
  {
   "cell_type": "code",
   "execution_count": 20,
   "metadata": {},
   "outputs": [
    {
     "data": {
      "image/png": "[encoded data removed]",
      "text/plain": [
       "<Figure size 432x288 with 1 Axes>"
      ]
     },
     "metadata": {
      "needs_background": "light"
     },
     "output_type": "display_data"
    }
   ],
   "source": [
    "plt.plot(fpr, tpr, color='green', label='ROC')\n",
    "plt.plot([0, 1], [0, 1], color='purple', linestyle='--')\n",
    "plt.xlabel('False Positive Rate')\n",
    "plt.ylabel('True Positive Rate')\n",
    "plt.title('Receiver Operating Characteristic (ROC) Curve')\n",
    "plt.legend()\n",
    "plt.show()"
   ]
  },
  {
   "cell_type": "markdown",
   "metadata": {},
   "source": [
    "## References"
   ]
  },
  {
   "cell_type": "markdown",
   "metadata": {},
   "source": [
    "- https://stackoverflow.com/questions/34842405/parameter-stratify-from-method-train-test-split-scikit-learn\n",
    "- https://towardsdatascience.com/decision-tree-in-python-b433ae57fb93"
   ]
  }
 ],
 "metadata": {
  "kernelspec": {
   "display_name": "Python 3",
   "language": "python",
   "name": "python3"
  },
  "language_info": {
   "codemirror_mode": {
    "name": "ipython",
    "version": 3
   },
   "file_extension": ".py",
   "mimetype": "text/x-python",
   "name": "python",
   "nbconvert_exporter": "python",
   "pygments_lexer": "ipython3",
   "version": "3.7.4"
  }
 },
 "nbformat": 4,
 "nbformat_minor": 2
}
